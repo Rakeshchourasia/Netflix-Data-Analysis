{
 "cells": [
  {
   "cell_type": "code",
   "execution_count": 1,
   "id": "047b4cd5-9095-499c-b186-e0891d0a96f0",
   "metadata": {},
   "outputs": [],
   "source": [
    "import pandas as pd\n",
    "import numpy as np"
   ]
  },
  {
   "cell_type": "code",
   "execution_count": 2,
   "id": "7db263ac-dbc3-4152-8069-e96806e91eb1",
   "metadata": {},
   "outputs": [],
   "source": [
    "df = pd.read_csv('netflix.csv')\n"
   ]
  },
  {
   "cell_type": "code",
   "execution_count": 3,
   "id": "f6c6fc3d-e141-4850-8501-c21d32d79c4e",
   "metadata": {},
   "outputs": [
    {
     "name": "stdout",
     "output_type": "stream",
     "text": [
      "  show_id     type                  title         director  \\\n",
      "0      s1    Movie   Dick Johnson Is Dead  Kirsten Johnson   \n",
      "1      s2  TV Show          Blood & Water              NaN   \n",
      "2      s3  TV Show              Ganglands  Julien Leclercq   \n",
      "3      s4  TV Show  Jailbirds New Orleans              NaN   \n",
      "4      s5  TV Show           Kota Factory              NaN   \n",
      "\n",
      "                                                cast        country  \\\n",
      "0                                                NaN  United States   \n",
      "1  Ama Qamata, Khosi Ngema, Gail Mabalane, Thaban...   South Africa   \n",
      "2  Sami Bouajila, Tracy Gotoas, Samuel Jouy, Nabi...            NaN   \n",
      "3                                                NaN            NaN   \n",
      "4  Mayur More, Jitendra Kumar, Ranjan Raj, Alam K...          India   \n",
      "\n",
      "           date_added  release_year rating   duration  \\\n",
      "0  September 25, 2021          2020  PG-13     90 min   \n",
      "1  September 24, 2021          2021  TV-MA  2 Seasons   \n",
      "2  September 24, 2021          2021  TV-MA   1 Season   \n",
      "3  September 24, 2021          2021  TV-MA   1 Season   \n",
      "4  September 24, 2021          2021  TV-MA  2 Seasons   \n",
      "\n",
      "                                           listed_in  \\\n",
      "0                                      Documentaries   \n",
      "1    International TV Shows, TV Dramas, TV Mysteries   \n",
      "2  Crime TV Shows, International TV Shows, TV Act...   \n",
      "3                             Docuseries, Reality TV   \n",
      "4  International TV Shows, Romantic TV Shows, TV ...   \n",
      "\n",
      "                                         description  \n",
      "0  As her father nears the end of his life, filmm...  \n",
      "1  After crossing paths at a party, a Cape Town t...  \n",
      "2  To protect his family from a powerful drug lor...  \n",
      "3  Feuds, flirtations and toilet talk go down amo...  \n",
      "4  In a city of coaching centers known to train I...  \n",
      "<class 'pandas.core.frame.DataFrame'>\n",
      "RangeIndex: 8807 entries, 0 to 8806\n",
      "Data columns (total 12 columns):\n",
      " #   Column        Non-Null Count  Dtype \n",
      "---  ------        --------------  ----- \n",
      " 0   show_id       8807 non-null   object\n",
      " 1   type          8807 non-null   object\n",
      " 2   title         8807 non-null   object\n",
      " 3   director      6173 non-null   object\n",
      " 4   cast          7982 non-null   object\n",
      " 5   country       7976 non-null   object\n",
      " 6   date_added    8797 non-null   object\n",
      " 7   release_year  8807 non-null   int64 \n",
      " 8   rating        8803 non-null   object\n",
      " 9   duration      8804 non-null   object\n",
      " 10  listed_in     8807 non-null   object\n",
      " 11  description   8807 non-null   object\n",
      "dtypes: int64(1), object(11)\n",
      "memory usage: 825.8+ KB\n",
      "None\n",
      "       release_year\n",
      "count   8807.000000\n",
      "mean    2014.180198\n",
      "std        8.819312\n",
      "min     1925.000000\n",
      "25%     2013.000000\n",
      "50%     2017.000000\n",
      "75%     2019.000000\n",
      "max     2021.000000\n",
      "show_id            0\n",
      "type               0\n",
      "title              0\n",
      "director        2634\n",
      "cast             825\n",
      "country          831\n",
      "date_added        10\n",
      "release_year       0\n",
      "rating             4\n",
      "duration           3\n",
      "listed_in          0\n",
      "description        0\n",
      "dtype: int64\n"
     ]
    }
   ],
   "source": [
    "print(df.head())         # View the first 5 rows\n",
    "print(df.info())         # Get information about the dataset\n",
    "print(df.describe())     # Summary statistics for numerical columns\n",
    "print(df.isnull().sum()) # Check for missing values\n"
   ]
  },
  {
   "cell_type": "code",
   "execution_count": 4,
   "id": "4dff56a4-c04f-4b0e-9884-404efb473b35",
   "metadata": {},
   "outputs": [],
   "source": [
    "df = df.dropna() # Drop rows with missing values\n",
    "df = df.dropna(axis=1) # Drop columns with missing values\n"
   ]
  },
  {
   "cell_type": "code",
   "execution_count": 5,
   "id": "7279b9ab-55fd-461b-adbd-21fc7903ca7d",
   "metadata": {},
   "outputs": [],
   "source": [
    "df['director'] = df['director'].fillna('Unknown')\n",
    "df['cast'] = df['cast'].fillna('Unknown')\n"
   ]
  },
  {
   "cell_type": "code",
   "execution_count": 6,
   "id": "9d7025b0-3801-4eb0-9657-3a63bbc3a614",
   "metadata": {},
   "outputs": [],
   "source": [
    "df['country'] = df['country'].fillna('Not Specified')\n"
   ]
  },
  {
   "cell_type": "code",
   "execution_count": 7,
   "id": "d2e86cf0-cc83-49d1-828c-0f388d57e83c",
   "metadata": {},
   "outputs": [],
   "source": [
    "df['date_added'] = pd.to_datetime(df['date_added'], errors='coerce')\n"
   ]
  },
  {
   "cell_type": "code",
   "execution_count": 8,
   "id": "b5891ed1-7b05-4c6e-9791-e5d026defdea",
   "metadata": {},
   "outputs": [],
   "source": [
    "df['rating'] = df['rating'].fillna(df['rating'].mode()[0])\n",
    "df['duration'] = df['duration'].fillna('Unknown')\n"
   ]
  },
  {
   "cell_type": "code",
   "execution_count": 9,
   "id": "f71955a0-0d46-4b3b-ad3d-df3e9e7ff56f",
   "metadata": {},
   "outputs": [],
   "source": [
    "df.columns = df.columns.str.strip().str.lower().str.replace(' ', '_')\n"
   ]
  },
  {
   "cell_type": "code",
   "execution_count": 11,
   "id": "f5dac73b-3a91-4202-a76f-a2a4b8225530",
   "metadata": {},
   "outputs": [],
   "source": [
    "df['duration_minutes'] = df['duration'].str.extract(r'(\\d+)').astype(float)\n"
   ]
  },
  {
   "cell_type": "code",
   "execution_count": 12,
   "id": "58e02d86-e2bb-4e27-b8dd-b56f2cacb802",
   "metadata": {},
   "outputs": [],
   "source": [
    "q1 = df['release_year'].quantile(0.25)\n",
    "q3 = df['release_year'].quantile(0.75)\n",
    "iqr = q3 - q1\n",
    "lower_bound = q1 - 1.5 * iqr\n",
    "upper_bound = q3 + 1.5 * iqr\n",
    "\n",
    "df = df[(df['release_year'] >= lower_bound) & (df['release_year'] <= upper_bound)]\n"
   ]
  },
  {
   "cell_type": "code",
   "execution_count": 13,
   "id": "ea6941a6-d55d-441b-8883-e3c7eabfffed",
   "metadata": {},
   "outputs": [],
   "source": [
    "df = df.drop_duplicates()\n"
   ]
  },
  {
   "cell_type": "code",
   "execution_count": 14,
   "id": "5b29521e-224a-4205-907b-3ce7ba8cce17",
   "metadata": {},
   "outputs": [],
   "source": [
    "df['categories'] = df['listed_in'].str.split(', ')\n"
   ]
  },
  {
   "cell_type": "code",
   "execution_count": 15,
   "id": "1278730f-c401-4f01-b0ed-12802256af1f",
   "metadata": {},
   "outputs": [],
   "source": [
    "df['year_added'] = df['date_added'].dt.year\n",
    "df['month_added'] = df['date_added'].dt.month\n"
   ]
  },
  {
   "cell_type": "code",
   "execution_count": 16,
   "id": "85a69bc3-1eca-42b1-b6af-014b3b745a59",
   "metadata": {},
   "outputs": [],
   "source": [
    "df.to_csv('cleaned_netflix_data.csv', index=False)\n"
   ]
  },
  {
   "cell_type": "code",
   "execution_count": null,
   "id": "917937c9-5b57-42d7-9c5a-81ca65228b00",
   "metadata": {},
   "outputs": [],
   "source": []
  }
 ],
 "metadata": {
  "kernelspec": {
   "display_name": "Python 3 (ipykernel)",
   "language": "python",
   "name": "python3"
  },
  "language_info": {
   "codemirror_mode": {
    "name": "ipython",
    "version": 3
   },
   "file_extension": ".py",
   "mimetype": "text/x-python",
   "name": "python",
   "nbconvert_exporter": "python",
   "pygments_lexer": "ipython3",
   "version": "3.12.6"
  }
 },
 "nbformat": 4,
 "nbformat_minor": 5
}
